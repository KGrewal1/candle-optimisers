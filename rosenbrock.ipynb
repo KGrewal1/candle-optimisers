{
 "cells": [
  {
   "cell_type": "code",
   "execution_count": 2,
   "metadata": {},
   "outputs": [],
   "source": [
    "import numpy as np"
   ]
  },
  {
   "cell_type": "code",
   "execution_count": 3,
   "metadata": {},
   "outputs": [],
   "source": [
    "def rosenbrock(xs: np.ndarray):\n",
    "    return (1 - xs[0]) ** 2 + 100 * (xs[1] - xs[0] ** 2) ** 2\n",
    "\n",
    "def grad_rosenbrock(xs: np.ndarray):\n",
    "    return np.array([\n",
    "        -2 * (1 - xs[0]) - 400 * xs[0] * (xs[1] - xs[0] ** 2),\n",
    "        200 * (xs[1] - xs[0] ** 2)\n",
    "    ])"
   ]
  },
  {
   "cell_type": "code",
   "execution_count": 5,
   "metadata": {},
   "outputs": [
    {
     "name": "stdout",
     "output_type": "stream",
     "text": [
      "308.2030601535064\n",
      "[2089.29267895  341.54595   ]\n"
     ]
    }
   ],
   "source": [
    "print(rosenbrock([-3.0705, 11.1357]))\n",
    "print(grad_rosenbrock([-3.0705, 11.1357]))"
   ]
  },
  {
   "cell_type": "code",
   "execution_count": null,
   "metadata": {},
   "outputs": [],
   "source": []
  }
 ],
 "metadata": {
  "kernelspec": {
   "display_name": "base",
   "language": "python",
   "name": "python3"
  },
  "language_info": {
   "codemirror_mode": {
    "name": "ipython",
    "version": 3
   },
   "file_extension": ".py",
   "mimetype": "text/x-python",
   "name": "python",
   "nbconvert_exporter": "python",
   "pygments_lexer": "ipython3",
   "version": "3.10.9"
  }
 },
 "nbformat": 4,
 "nbformat_minor": 2
}
